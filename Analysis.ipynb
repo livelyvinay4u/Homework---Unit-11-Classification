{
 "cells": [
  {
   "cell_type": "markdown",
   "id": "6dbb3897-91eb-4631-bd2d-70e68e524f8f",
   "metadata": {},
   "source": [
    "# Resampling"
   ]
  },
  {
   "cell_type": "code",
   "execution_count": null,
   "id": "4f0c77dd-226c-422f-b067-9d1c8b87d96b",
   "metadata": {
    "tags": []
   },
   "outputs": [],
   "source": [
    "## Use the above to answer the following questions:\n",
    "\n",
    "### Which model had the best balanced accuracy score?\n",
    "\n",
    "**Answer**\n",
    "Simple Logistic Regression 0.9892813049736127\n",
    "Naive Random Oversampler 0.9892813049736127\n",
    "SMOTE 0.9946414201183431\n",
    "Cluster Centroids 0.9946414201183431\n",
    "SMOTEENN 0.9932279972279972\n",
    "\n",
    "SMOTE and Cluster Centroids have the best balanced accuracy score\n",
    "\n",
    "### Which model had the best recall score?\n",
    "\n",
    "**Answer**\n",
    "Simple Logistic Regression (recall : 0.98, 0.99)\n",
    "Naive Random Oversampler (recall : 1.00, 0.99)\n",
    "SMOTE (recall : 1.00, 0.99)\n",
    "Cluster Centroids (recall : 0.99, 0.99)\n",
    "SMOTEENN (recall : 1.00, 0.99)\n",
    "\n",
    "Naive Random Oversampler, SMOTE and SMOTEENN have best recall score.\n",
    "\n",
    "### Which model had the best geometric mean score?\n",
    "\n",
    "**Answer**\n",
    "In classification matrix, geo column have the same values for all models. Hence all the models have same geometric mean score. "
   ]
  },
  {
   "cell_type": "markdown",
   "id": "74e77797-9efb-4bc5-8df1-45ec248d2bb7",
   "metadata": {},
   "source": [
    "# Ensemble Learning"
   ]
  },
  {
   "cell_type": "markdown",
   "id": "8dfe26f4-c1ae-4e1f-a239-016445fb9ec3",
   "metadata": {},
   "source": [
    "## Use the above to answer the following questions:\n",
    "\n",
    "### Which model had the best balanced accuracy score?\n",
    "\n",
    "**Answer**\n",
    "Random Forest Classifier (Accuracy Score : 0.9958732926474861)\n",
    "Easy Ensemble Classifier (Accuracy Score : 0.8012786980528916)\n",
    "\n",
    "Random Forest Classifier model has best balanced accuracy score.\n",
    "\n",
    "### Which model had the best recall score?\n",
    "\n",
    "**Answer**\n",
    "Random Forest Classifier (recall : 0.32, 1.00)\n",
    "Easy Ensemble Classifier (recall : 0.67, 0.80)\n",
    "\n",
    "Easy Ensemble Classifier model has best best recall score.\n",
    "\n",
    "### Which model had the best geometric mean score?\n",
    "\n",
    "**Answer**\n",
    "Random Forest Classifier\n",
    "\n",
    "### What are the top three features?\n",
    "\n",
    "**Answer**\n",
    "0.07333252693604911, 'total_rec_prncp'\n",
    "0.06843347365369384, 'last_pymnt_amnt'\n",
    "0.06753462313883246, 'total_rec_int'"
   ]
  },
  {
   "cell_type": "code",
   "execution_count": null,
   "id": "cbacb206-3353-4fe4-a835-18b5dc639cb2",
   "metadata": {},
   "outputs": [],
   "source": []
  }
 ],
 "metadata": {
  "kernelspec": {
   "display_name": "Python 3 (ipykernel)",
   "language": "python",
   "name": "python3"
  },
  "language_info": {
   "codemirror_mode": {
    "name": "ipython",
    "version": 3
   },
   "file_extension": ".py",
   "mimetype": "text/x-python",
   "name": "python",
   "nbconvert_exporter": "python",
   "pygments_lexer": "ipython3",
   "version": "3.7.11"
  }
 },
 "nbformat": 4,
 "nbformat_minor": 5
}
